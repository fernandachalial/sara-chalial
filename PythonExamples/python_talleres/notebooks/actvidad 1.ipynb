{
 "cells": [
  {
   "cell_type": "markdown",
   "id": "28f94847",
   "metadata": {},
   "source": [
    "# 2) Tipos de datos y variables\n",
    "\n",
    "## ¿Qué son?\n",
    "Los **tipos** definen la clase de datos (entero, flotante, texto, booleano). Las **variables** son nombres que apuntan a valores en memoria.\n",
    "\n",
    "## ¿Para qué se usan?\n",
    "Para **representar y transformar información**. Python es *tipado dinámico*: el tipo se asocia al valor, no al nombre.\n",
    "\n",
    "## Tipos básicos\n",
    "- `int`, `float`, `str`, `bool`\n",
    "- Mutabilidad: `str` es inmutable, `list` es mutable.\n",
    "- Conversión de tipos: `int(\"42\")`, `float(\"3.14\")`, `str(99)`.\n"
   ]
  },
  {
   "cell_type": "code",
   "execution_count": null,
   "id": "8ec354fd",
   "metadata": {},
   "outputs": [],
   "source": [
    "edad = 28\n",
    "altura = 1.72\n",
    "nombre = \"Ada\"\n",
    "es_estudiante = True\n",
    "\n",
    "print(type(edad), type(altura), type(nombre), type(es_estudiante))\n",
    "print(f\"{nombre} mide {altura} m y tiene {edad} años. ¿Estudia? {es_estudiante}\")\n"
   ]
  },
  {
   "cell_type": "markdown",
   "id": "a908bd58",
   "metadata": {},
   "source": [
    "### Ejercicios\n",
    "- E1: Declara tres variables de distintos tipos y muéstralas con su tipo.\n",
    "- E2: Convierte `\"99\"` a entero y súmalo con 1.\n",
    "- E3: Pide por `input()` nombre y edad, y muestra un mensaje formateado.\n",
    "\n",
    "### Reto extra\n",
    "Calcula el **IMC**: pide peso (kg) y altura (m), imprime el resultado con dos decimales.\n"
   ]
  },
  {
   "cell_type": "code",
   "execution_count": null,
   "id": "329bf9f3",
   "metadata": {},
   "outputs": [
    {
     "name": "stdout",
     "output_type": "stream",
     "text": [
      "Sara, Apellido chalial y tiene 18 años.\n",
      "100\n"
     ]
    }
   ],
   "source": [
    "Nombre = \"Sara\"\n",
    "Apellido = \"chalial\"\n",
    "Edad= 18\n",
    "print(f\"{Nombre}, Apellido {Apellido} y tiene {Edad} años.\")\n",
    "numero = 99\n",
    "resultado = numero +1\n",
    "print(resultado)\n",
    "nombre= input(\"ingresa tu numbre\")\n",
    "edad= input(\"ingresa tu edad\")\n",
    "print "
   ]
  },
  {
   "cell_type": "code",
   "execution_count": null,
   "id": "7177e83a",
   "metadata": {},
   "outputs": [],
   "source": [
    "# Plantilla para IMC\n",
    "peso = 70.0\n",
    "altura = 1.75\n",
    "imc = peso / (altura ** 2)\n",
    "print(f\"IMC: {imc:.2f}\")\n"
   ]
  }
 ],
 "metadata": {
  "kernelspec": {
   "display_name": "base",
   "language": "python",
   "name": "python3"
  },
  "language_info": {
   "codemirror_mode": {
    "name": "ipython",
    "version": 3
   },
   "file_extension": ".py",
   "mimetype": "text/x-python",
   "name": "python",
   "nbconvert_exporter": "python",
   "pygments_lexer": "ipython3",
   "version": "3.9.7"
  }
 },
 "nbformat": 4,
 "nbformat_minor": 5
}
