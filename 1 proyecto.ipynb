{
 "cells": [
  {
   "cell_type": "markdown",
   "id": "286daabd",
   "metadata": {},
   "source": [
    "# 1) Introducción y *Hola, mundo*\n",
    "\n",
    "## ¿Qué es Python?\n",
    "Python es un **lenguaje de programación de propósito general**, interpretado y con sintaxis clara. Destaca por su legibilidad y una batería estándar amplia.\n",
    "\n",
    "## ¿Para qué se usa?\n",
    "- Scripts y automatización\n",
    "- Ciencia de datos y aprendizaje automático\n",
    "- Desarrollo web, APIs y microservicios\n",
    "- Computación científica, prototipado rápido, educación\n",
    "\n",
    "## Ideas clave\n",
    "- **REPL** (consola interactiva) y **scripts** (`.py`).\n",
    "- **Indentación** significativa: los bloques se definen por sangría.\n",
    "- Comunidad enorme y ecosistema de librerías.\n"
   ]
  },
  {
   "cell_type": "markdown",
   "id": "81cdd491",
   "metadata": {},
   "source": [
    "## Taller — Paso a paso\n",
    "1. Crea un archivo `hola.py` con un `print`.\n",
    "2. Ejecútalo desde la terminal (o usa el botón *Run* en el notebook).\n",
    "3. Agrega expresiones aritméticas y múltiples impresiones.\n"
   ]
  },
  {
   "cell_type": "code",
   "execution_count": 1,
   "id": "f0134373",
   "metadata": {},
   "outputs": [
    {
     "name": "stdout",
     "output_type": "stream",
     "text": [
      "¡Hola, Python!\n",
      "2 + 2 = 4\n"
     ]
    }
   ],
   "source": [
    "# Tu primer programa\n",
    "print(\"¡Hola, Python!\")\n",
    "print(\"2 + 2 =\", 2 + 2)\n"
   ]
  },
  {
   "cell_type": "markdown",
   "id": "dec80837",
   "metadata": {},
   "source": [
    "### Ejercicios guiados\n",
    "- E1: Imprime tu nombre y ciudad.\n",
    "- E2: Imprime tres líneas usando `\\n`.\n",
    "- E3: Crea una variable `hoy` con la fecha actual formateada.\n",
    "\n",
    "### Reto extra\n",
    "Dibuja un marco simple con caracteres y un saludo en el centro.\n"
   ]
  },
  {
   "cell_type": "code",
   "execution_count": 4,
   "id": "e73d2298",
   "metadata": {},
   "outputs": [
    {
     "name": "stdout",
     "output_type": "stream",
     "text": [
      "Sara Fernanda Chalial Jojoa, Bogota \n",
      " \n",
      " \n",
      "\n",
      "Hoy es: 5/09/2025\n"
     ]
    }
   ],
   "source": [
    "print(\"Sara Fernanda Chalial Jojoa, Bogota \\n \\n \\n\")\n",
    "hoy = \"5/09/2025\"\n",
    "print (\"Hoy es:\", hoy )"
   ]
  },
  {
   "cell_type": "code",
   "execution_count": null,
   "id": "0fd22867",
   "metadata": {},
   "outputs": [],
   "source": [
    "# Pista para E3 (no es obligatorio usarlo aquí)\n",
    "from datetime import datetime\n",
    "hoy = datetime.now().strftime(\"%Y-%m-%d\")\n",
    "print(\"Hoy es:\", hoy)\n"
   ]
  }
 ],
 "metadata": {
  "kernelspec": {
   "display_name": "base",
   "language": "python",
   "name": "python3"
  },
  "language_info": {
   "codemirror_mode": {
    "name": "ipython",
    "version": 3
   },
   "file_extension": ".py",
   "mimetype": "text/x-python",
   "name": "python",
   "nbconvert_exporter": "python",
   "pygments_lexer": "ipython3",
   "version": "3.9.7"
  }
 },
 "nbformat": 4,
 "nbformat_minor": 5
}
